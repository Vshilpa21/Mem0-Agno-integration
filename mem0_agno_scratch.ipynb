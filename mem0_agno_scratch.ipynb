{
  "nbformat": 4,
  "nbformat_minor": 0,
  "metadata": {
    "colab": {
      "provenance": []
    },
    "kernelspec": {
      "name": "python3",
      "display_name": "Python 3"
    },
    "language_info": {
      "name": "python"
    }
  },
  "cells": [
    {
      "cell_type": "code",
      "source": [
        "# Memory Brain Cell\n",
        "class Memory:\n",
        "    def __init__(self):\n",
        "        self.facts = []\n",
        "\n",
        "    def store(self, fact):\n",
        "        print(f\"🧠 Storing fact: {fact}\")\n",
        "        self.facts.append(fact)\n",
        "\n",
        "    def retrieve(self, keyword):\n",
        "        matches = [fact for fact in self.facts if keyword.lower() in fact.lower()]\n",
        "        print(f\"🔍 Searching for '{keyword}' → Found {len(matches)} match(es)\")\n",
        "        return matches\n"
      ],
      "metadata": {
        "id": "U01dnlvdh9za"
      },
      "execution_count": 8,
      "outputs": []
    },
    {
      "cell_type": "code",
      "source": [
        "# Reasoning Agent Core\n",
        "class Agent:\n",
        "    def __init__(self, memory, name=\"Cortex\"):\n",
        "        self.memory = memory\n",
        "        self.name = name\n",
        "\n",
        "    def answer(self, question):\n",
        "        print(f\"\\n🧠 {self.name} is thinking about: '{question}'\")\n",
        "        keyword = self.extract_keyword(question)\n",
        "        print(f\"💭 Extracted keyword: {keyword}\")\n",
        "        results = self.memory.retrieve(keyword)\n",
        "\n",
        "        if results:\n",
        "            return f\"🗣️ {self.name} says: Based on my memory, \\\"{results[0]}\\\"\"\n",
        "        else:\n",
        "            return f\"🤷‍♂️ {self.name} says: I don't know yet! Teach me?\"\n",
        "\n",
        "    def extract_keyword(self, question):\n",
        "        # Remove common stopwords to find the \"core\" of the question\n",
        "        stopwords = ['what', 'is', 'the', 'of', 'do', 'we', 'know', 'about', 'can', 'you', 'a', 'an']\n",
        "        words = question.lower().replace(\"?\", \"\").split()\n",
        "        for word in words:\n",
        "            if word not in stopwords:\n",
        "                return word\n",
        "        return words[-1]\n"
      ],
      "metadata": {
        "id": "6Gv1tH-VjklC"
      },
      "execution_count": 9,
      "outputs": []
    },
    {
      "cell_type": "code",
      "source": [
        "# Load memory\n",
        "memory = Memory()\n",
        "memory.store(\"Climate change causes global warming.\")\n",
        "memory.store(\"AI agents can help automate boring tasks.\")\n",
        "memory.store(\"Python is a powerful language for automation.\")\n",
        "memory.store(\"Neural networks are inspired by the human brain.\")\n",
        "memory.store(\"Books are a gateway to imagination.\")\n"
      ],
      "metadata": {
        "colab": {
          "base_uri": "https://localhost:8080/"
        },
        "id": "cd7S8mKojohX",
        "outputId": "5f315225-c0c9-4009-bebc-56122c9f9c00"
      },
      "execution_count": 10,
      "outputs": [
        {
          "output_type": "stream",
          "name": "stdout",
          "text": [
            "🧠 Storing fact: Climate change causes global warming.\n",
            "🧠 Storing fact: AI agents can help automate boring tasks.\n",
            "🧠 Storing fact: Python is a powerful language for automation.\n",
            "🧠 Storing fact: Neural networks are inspired by the human brain.\n",
            "🧠 Storing fact: Books are a gateway to imagination.\n"
          ]
        }
      ]
    },
    {
      "cell_type": "code",
      "source": [
        "# Start the agent\n",
        "agent = Agent(memory)\n",
        "\n",
        "while True:\n",
        "    question = input(\"\\n🧑‍💻 Ask the agent (or type 'exit' to stop): \")\n",
        "    if question.lower() in ['exit', 'quit']:\n",
        "        print(\"👋 Bye! Keep teaching me!\")\n",
        "        break\n",
        "    print(agent.answer(question))\n"
      ],
      "metadata": {
        "colab": {
          "base_uri": "https://localhost:8080/"
        },
        "id": "UpEIvsisjsH_",
        "outputId": "c2e222eb-be6a-455a-9a0e-a50784359e7d"
      },
      "execution_count": 11,
      "outputs": [
        {
          "output_type": "stream",
          "name": "stdout",
          "text": [
            "\n",
            "🧑‍💻 Ask the agent (or type 'exit' to stop): what do we know about python\n",
            "\n",
            "🧠 Cortex is thinking about: 'what do we know about python'\n",
            "💭 Extracted keyword: python\n",
            "🔍 Searching for 'python' → Found 1 match(es)\n",
            "🗣️ Cortex says: Based on my memory, \"Python is a powerful language for automation.\"\n",
            "\n",
            "🧑‍💻 Ask the agent (or type 'exit' to stop): what do we know about chatgpt\n",
            "\n",
            "🧠 Cortex is thinking about: 'what do we know about chatgpt'\n",
            "💭 Extracted keyword: chatgpt\n",
            "🔍 Searching for 'chatgpt' → Found 0 match(es)\n",
            "🤷‍♂️ Cortex says: I don't know yet! Teach me?\n",
            "\n",
            "🧑‍💻 Ask the agent (or type 'exit' to stop): exit\n",
            "👋 Bye! Keep teaching me!\n"
          ]
        }
      ]
    }
  ]
}